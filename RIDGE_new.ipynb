{
 "cells": [
  {
   "cell_type": "code",
   "execution_count": 1,
   "metadata": {},
   "outputs": [],
   "source": [
    "import pandas as pd\n",
    "import numpy as np \n",
    "import seaborn as sns\n",
    "import matplotlib.pyplot as plt\n",
    "from sklearn.linear_model import Ridge\n",
    "from sklearn.model_selection import train_test_split as tts,RepeatedKFold ,cross_val_score ,GridSearchCV\n",
    "from sklearn.metrics import r2_score, mean_squared_error,precision_score"
   ]
  },
  {
   "cell_type": "code",
   "execution_count": 2,
   "metadata": {},
   "outputs": [
    {
     "data": {
      "text/html": [
       "<div>\n",
       "<style scoped>\n",
       "    .dataframe tbody tr th:only-of-type {\n",
       "        vertical-align: middle;\n",
       "    }\n",
       "\n",
       "    .dataframe tbody tr th {\n",
       "        vertical-align: top;\n",
       "    }\n",
       "\n",
       "    .dataframe thead th {\n",
       "        text-align: right;\n",
       "    }\n",
       "</style>\n",
       "<table border=\"1\" class=\"dataframe\">\n",
       "  <thead>\n",
       "    <tr style=\"text-align: right;\">\n",
       "      <th></th>\n",
       "      <th>mpg</th>\n",
       "      <th>cylinders</th>\n",
       "      <th>displacement</th>\n",
       "      <th>weight</th>\n",
       "      <th>acceleration</th>\n",
       "      <th>model year</th>\n",
       "      <th>horsepower</th>\n",
       "      <th>origin</th>\n",
       "    </tr>\n",
       "  </thead>\n",
       "  <tbody>\n",
       "    <tr>\n",
       "      <th>0</th>\n",
       "      <td>18.0</td>\n",
       "      <td>8</td>\n",
       "      <td>307.0</td>\n",
       "      <td>3504</td>\n",
       "      <td>12.0</td>\n",
       "      <td>70</td>\n",
       "      <td>130.0</td>\n",
       "      <td>1</td>\n",
       "    </tr>\n",
       "    <tr>\n",
       "      <th>1</th>\n",
       "      <td>15.0</td>\n",
       "      <td>8</td>\n",
       "      <td>350.0</td>\n",
       "      <td>3693</td>\n",
       "      <td>11.5</td>\n",
       "      <td>70</td>\n",
       "      <td>165.0</td>\n",
       "      <td>1</td>\n",
       "    </tr>\n",
       "    <tr>\n",
       "      <th>2</th>\n",
       "      <td>18.0</td>\n",
       "      <td>8</td>\n",
       "      <td>318.0</td>\n",
       "      <td>3436</td>\n",
       "      <td>11.0</td>\n",
       "      <td>70</td>\n",
       "      <td>150.0</td>\n",
       "      <td>1</td>\n",
       "    </tr>\n",
       "    <tr>\n",
       "      <th>3</th>\n",
       "      <td>16.0</td>\n",
       "      <td>8</td>\n",
       "      <td>304.0</td>\n",
       "      <td>3433</td>\n",
       "      <td>12.0</td>\n",
       "      <td>70</td>\n",
       "      <td>150.0</td>\n",
       "      <td>1</td>\n",
       "    </tr>\n",
       "    <tr>\n",
       "      <th>4</th>\n",
       "      <td>17.0</td>\n",
       "      <td>8</td>\n",
       "      <td>302.0</td>\n",
       "      <td>3449</td>\n",
       "      <td>10.5</td>\n",
       "      <td>70</td>\n",
       "      <td>140.0</td>\n",
       "      <td>1</td>\n",
       "    </tr>\n",
       "  </tbody>\n",
       "</table>\n",
       "</div>"
      ],
      "text/plain": [
       "    mpg  cylinders  displacement  weight  acceleration  model year  \\\n",
       "0  18.0          8         307.0    3504          12.0          70   \n",
       "1  15.0          8         350.0    3693          11.5          70   \n",
       "2  18.0          8         318.0    3436          11.0          70   \n",
       "3  16.0          8         304.0    3433          12.0          70   \n",
       "4  17.0          8         302.0    3449          10.5          70   \n",
       "\n",
       "   horsepower  origin  \n",
       "0       130.0       1  \n",
       "1       165.0       1  \n",
       "2       150.0       1  \n",
       "3       150.0       1  \n",
       "4       140.0       1  "
      ]
     },
     "execution_count": 2,
     "metadata": {},
     "output_type": "execute_result"
    }
   ],
   "source": [
    "df_1= pd.read_csv(r\"C:\\Users\\SURAJ\\Downloads\\Ridge_car_data.txt.csv\")\n",
    "df_1.dropna(inplace=True)\n",
    "df_1.drop(\"car name\",axis=1,inplace=True)\n",
    "df_1.head()"
   ]
  },
  {
   "cell_type": "code",
   "execution_count": 3,
   "metadata": {},
   "outputs": [],
   "source": [
    "from sklearn.preprocessing import StandardScaler\n",
    "scale = StandardScaler()\n",
    "df_scaled=scale.fit_transform(df_1)"
   ]
  },
  {
   "cell_type": "code",
   "execution_count": 4,
   "metadata": {},
   "outputs": [
    {
     "data": {
      "text/html": [
       "<div>\n",
       "<style scoped>\n",
       "    .dataframe tbody tr th:only-of-type {\n",
       "        vertical-align: middle;\n",
       "    }\n",
       "\n",
       "    .dataframe tbody tr th {\n",
       "        vertical-align: top;\n",
       "    }\n",
       "\n",
       "    .dataframe thead th {\n",
       "        text-align: right;\n",
       "    }\n",
       "</style>\n",
       "<table border=\"1\" class=\"dataframe\">\n",
       "  <thead>\n",
       "    <tr style=\"text-align: right;\">\n",
       "      <th></th>\n",
       "      <th>mpg</th>\n",
       "      <th>cylinders</th>\n",
       "      <th>displacement</th>\n",
       "      <th>weight</th>\n",
       "      <th>acceleration</th>\n",
       "      <th>model year</th>\n",
       "      <th>horsepower</th>\n",
       "      <th>origin</th>\n",
       "    </tr>\n",
       "  </thead>\n",
       "  <tbody>\n",
       "    <tr>\n",
       "      <th>0</th>\n",
       "      <td>-0.698638</td>\n",
       "      <td>1.483947</td>\n",
       "      <td>1.077290</td>\n",
       "      <td>0.620540</td>\n",
       "      <td>-1.285258</td>\n",
       "      <td>-1.625315</td>\n",
       "      <td>0.664133</td>\n",
       "      <td>-0.716641</td>\n",
       "    </tr>\n",
       "    <tr>\n",
       "      <th>1</th>\n",
       "      <td>-1.083498</td>\n",
       "      <td>1.483947</td>\n",
       "      <td>1.488732</td>\n",
       "      <td>0.843334</td>\n",
       "      <td>-1.466724</td>\n",
       "      <td>-1.625315</td>\n",
       "      <td>1.574594</td>\n",
       "      <td>-0.716641</td>\n",
       "    </tr>\n",
       "    <tr>\n",
       "      <th>2</th>\n",
       "      <td>-0.698638</td>\n",
       "      <td>1.483947</td>\n",
       "      <td>1.182542</td>\n",
       "      <td>0.540382</td>\n",
       "      <td>-1.648189</td>\n",
       "      <td>-1.625315</td>\n",
       "      <td>1.184397</td>\n",
       "      <td>-0.716641</td>\n",
       "    </tr>\n",
       "    <tr>\n",
       "      <th>3</th>\n",
       "      <td>-0.955212</td>\n",
       "      <td>1.483947</td>\n",
       "      <td>1.048584</td>\n",
       "      <td>0.536845</td>\n",
       "      <td>-1.285258</td>\n",
       "      <td>-1.625315</td>\n",
       "      <td>1.184397</td>\n",
       "      <td>-0.716641</td>\n",
       "    </tr>\n",
       "    <tr>\n",
       "      <th>4</th>\n",
       "      <td>-0.826925</td>\n",
       "      <td>1.483947</td>\n",
       "      <td>1.029447</td>\n",
       "      <td>0.555706</td>\n",
       "      <td>-1.829655</td>\n",
       "      <td>-1.625315</td>\n",
       "      <td>0.924265</td>\n",
       "      <td>-0.716641</td>\n",
       "    </tr>\n",
       "  </tbody>\n",
       "</table>\n",
       "</div>"
      ],
      "text/plain": [
       "        mpg  cylinders  displacement    weight  acceleration  model year  \\\n",
       "0 -0.698638   1.483947      1.077290  0.620540     -1.285258   -1.625315   \n",
       "1 -1.083498   1.483947      1.488732  0.843334     -1.466724   -1.625315   \n",
       "2 -0.698638   1.483947      1.182542  0.540382     -1.648189   -1.625315   \n",
       "3 -0.955212   1.483947      1.048584  0.536845     -1.285258   -1.625315   \n",
       "4 -0.826925   1.483947      1.029447  0.555706     -1.829655   -1.625315   \n",
       "\n",
       "   horsepower    origin  \n",
       "0    0.664133 -0.716641  \n",
       "1    1.574594 -0.716641  \n",
       "2    1.184397 -0.716641  \n",
       "3    1.184397 -0.716641  \n",
       "4    0.924265 -0.716641  "
      ]
     },
     "execution_count": 4,
     "metadata": {},
     "output_type": "execute_result"
    }
   ],
   "source": [
    "df= pd.DataFrame({\n",
    "    'mpg' : df_scaled[:,0],\n",
    "    'cylinders' :df_scaled[:,1],\n",
    "    'displacement' : df_scaled[:,2],\n",
    "    'weight' : df_scaled[:,3],\n",
    "    'acceleration' : df_scaled[:,4],\n",
    "    'model year' :df_scaled[:,5],\n",
    "    'horsepower' : df_scaled[:,6],\n",
    "    'origin' : df_scaled[:,7]\n",
    "})\n",
    "df.head()"
   ]
  },
  {
   "cell_type": "code",
   "execution_count": null,
   "metadata": {},
   "outputs": [],
   "source": []
  },
  {
   "cell_type": "code",
   "execution_count": 5,
   "metadata": {},
   "outputs": [],
   "source": [
    "ind = df[['mpg']]\n",
    "dep = df.drop(\"mpg\",axis=1)"
   ]
  },
  {
   "attachments": {},
   "cell_type": "markdown",
   "metadata": {},
   "source": [
    "# model traning "
   ]
  },
  {
   "cell_type": "code",
   "execution_count": 6,
   "metadata": {},
   "outputs": [],
   "source": [
    "X_train,X_test,y_train,y_test = tts(dep,ind,train_size=0.8,random_state=1)"
   ]
  },
  {
   "cell_type": "code",
   "execution_count": 7,
   "metadata": {},
   "outputs": [
    {
     "name": "stdout",
     "output_type": "stream",
     "text": [
      "(79, 7)\n",
      "(313, 7)\n"
     ]
    }
   ],
   "source": [
    "print(X_test.shape)\n",
    "print(X_train.shape)"
   ]
  },
  {
   "cell_type": "code",
   "execution_count": 54,
   "metadata": {},
   "outputs": [],
   "source": [
    "model = Ridge(1.0)\n",
    "fold = RepeatedKFold(n_splits=7, n_repeats=5,random_state=1)\n",
    "cv = cross_val_score(model, X_train,y_train,scoring=\"neg_mean_squared_error\",cv=fold)\n",
    "rdg = model.fit(X_train,y_train)"
   ]
  },
  {
   "cell_type": "code",
   "execution_count": 55,
   "metadata": {},
   "outputs": [
    {
     "data": {
      "text/plain": [
       "array([[-0.02567563,  0.19794258, -0.73414705,  0.05921875,  0.34486433,\n",
       "        -0.044605  ,  0.14081775]])"
      ]
     },
     "execution_count": 55,
     "metadata": {},
     "output_type": "execute_result"
    }
   ],
   "source": [
    "rdg.coef_"
   ]
  },
  {
   "cell_type": "code",
   "execution_count": 56,
   "metadata": {},
   "outputs": [
    {
     "data": {
      "text/plain": [
       "array([-0.01446481])"
      ]
     },
     "execution_count": 56,
     "metadata": {},
     "output_type": "execute_result"
    }
   ],
   "source": [
    "rdg.intercept_"
   ]
  },
  {
   "cell_type": "code",
   "execution_count": 57,
   "metadata": {},
   "outputs": [
    {
     "name": "stdout",
     "output_type": "stream",
     "text": [
      "MSE :  0.1868796830658819\n"
     ]
    }
   ],
   "source": [
    "print(\"MSE : \",np.mean((-cv)))"
   ]
  },
  {
   "cell_type": "code",
   "execution_count": 10,
   "metadata": {},
   "outputs": [
    {
     "name": "stdout",
     "output_type": "stream",
     "text": [
      "mean_residual -0.056466565140289034\n"
     ]
    }
   ],
   "source": [
    "Residual = rdg.predict(X_test)-y_test\n",
    "print(\"mean_residual\",np.mean(np.array(Residual)))"
   ]
  },
  {
   "cell_type": "code",
   "execution_count": 11,
   "metadata": {},
   "outputs": [
    {
     "name": "stdout",
     "output_type": "stream",
     "text": [
      "intescept [5.01365772e-16]\n",
      "coeff [[-0.10089814  0.23845799 -0.68292616  0.02403072  0.35212491 -0.08718028\n",
      "   0.14574333]]\n"
     ]
    }
   ],
   "source": [
    "print(\"intescept\",rdg.intercept_)\n",
    "print(\"coeff\",rdg.coef_)"
   ]
  },
  {
   "cell_type": "code",
   "execution_count": 48,
   "metadata": {},
   "outputs": [],
   "source": [
    "Score = []\n",
    "coeff = []\n",
    "intercept = []\n",
    "R_square = []\n",
    "Adj_rsq =[]\n",
    "MSE_train = []\n",
    "MSE_test = []\n",
    "lambda_ =np.arange(-10,10,6)\n",
    "alp = lambda_\n",
    "alpha = {\"alpha\":lambda_}\n",
    "for i in alp:\n",
    "    model = Ridge(alpha=i)\n",
    "    fold = RepeatedKFold(n_splits=7, n_repeats=5,random_state=1)\n",
    "    cv = cross_val_score(model, X_train,y_train,scoring=\"neg_mean_absolute_error\",cv=fold,n_jobs=-1)\n",
    "    grd = GridSearchCV(Ridge(),alpha,scoring=\"neg_mean_squared_error\",cv=fold,n_jobs=-1)\n",
    "    grd.fit(X_train,y_train)\n",
    "    Score.append(np.mean(np.absolute(cv)))\n",
    "    # model fitting\n",
    "    rd = model.fit(X_train,y_train)\n",
    "    coeff.append(rd.coef_)\n",
    "    intercept.append(rd.intercept_)\n",
    "    R_square.append(r2_score(rd.predict(X_test),y_test))\n",
    "    Adj_rsq.append(1 - (1 - np.mean(np.array(R_square)) * (len(X_test) - 1) / (len(X_test) - len(X_test.columns) - 1)))\n",
    "    MSE_train.append(mean_squared_error(rd.predict(X_train),y_train))\n",
    "    MSE_test.append(mean_squared_error(rd.predict(X_test),y_test))\n"
   ]
  },
  {
   "cell_type": "code",
   "execution_count": 49,
   "metadata": {},
   "outputs": [
    {
     "data": {
      "text/html": [
       "<div>\n",
       "<style scoped>\n",
       "    .dataframe tbody tr th:only-of-type {\n",
       "        vertical-align: middle;\n",
       "    }\n",
       "\n",
       "    .dataframe tbody tr th {\n",
       "        vertical-align: top;\n",
       "    }\n",
       "\n",
       "    .dataframe thead th {\n",
       "        text-align: right;\n",
       "    }\n",
       "</style>\n",
       "<table border=\"1\" class=\"dataframe\">\n",
       "  <thead>\n",
       "    <tr style=\"text-align: right;\">\n",
       "      <th></th>\n",
       "      <th>alpha</th>\n",
       "      <th>R_squre</th>\n",
       "      <th>Adj_rsquare</th>\n",
       "      <th>MSE_train</th>\n",
       "      <th>MSE_test</th>\n",
       "      <th>intercept</th>\n",
       "      <th>cylinders</th>\n",
       "      <th>displacement</th>\n",
       "      <th>weight</th>\n",
       "      <th>acceleration</th>\n",
       "      <th>model year</th>\n",
       "      <th>horsepower</th>\n",
       "      <th>origin</th>\n",
       "    </tr>\n",
       "  </thead>\n",
       "  <tbody>\n",
       "    <tr>\n",
       "      <th>0</th>\n",
       "      <td>-10</td>\n",
       "      <td>0.046107</td>\n",
       "      <td>0.050652</td>\n",
       "      <td>6.541769</td>\n",
       "      <td>10.621208</td>\n",
       "      <td>-0.156509</td>\n",
       "      <td>6.389433</td>\n",
       "      <td>-11.877472</td>\n",
       "      <td>3.201474</td>\n",
       "      <td>-0.712081</td>\n",
       "      <td>0.052499</td>\n",
       "      <td>0.686674</td>\n",
       "      <td>-0.731059</td>\n",
       "    </tr>\n",
       "    <tr>\n",
       "      <th>1</th>\n",
       "      <td>-4</td>\n",
       "      <td>0.761302</td>\n",
       "      <td>0.443506</td>\n",
       "      <td>0.180347</td>\n",
       "      <td>0.213954</td>\n",
       "      <td>-0.008445</td>\n",
       "      <td>-0.107634</td>\n",
       "      <td>0.506868</td>\n",
       "      <td>-0.989653</td>\n",
       "      <td>0.117862</td>\n",
       "      <td>0.370660</td>\n",
       "      <td>0.034373</td>\n",
       "      <td>0.153515</td>\n",
       "    </tr>\n",
       "    <tr>\n",
       "      <th>2</th>\n",
       "      <td>2</td>\n",
       "      <td>0.774029</td>\n",
       "      <td>0.579118</td>\n",
       "      <td>0.175840</td>\n",
       "      <td>0.196221</td>\n",
       "      <td>-0.015158</td>\n",
       "      <td>-0.021755</td>\n",
       "      <td>0.168085</td>\n",
       "      <td>-0.703386</td>\n",
       "      <td>0.052589</td>\n",
       "      <td>0.341435</td>\n",
       "      <td>-0.054875</td>\n",
       "      <td>0.139854</td>\n",
       "    </tr>\n",
       "    <tr>\n",
       "      <th>3</th>\n",
       "      <td>8</td>\n",
       "      <td>0.769719</td>\n",
       "      <td>0.645740</td>\n",
       "      <td>0.178652</td>\n",
       "      <td>0.196884</td>\n",
       "      <td>-0.018004</td>\n",
       "      <td>-0.019210</td>\n",
       "      <td>0.059805</td>\n",
       "      <td>-0.576361</td>\n",
       "      <td>0.027485</td>\n",
       "      <td>0.325861</td>\n",
       "      <td>-0.096273</td>\n",
       "      <td>0.136765</td>\n",
       "    </tr>\n",
       "  </tbody>\n",
       "</table>\n",
       "</div>"
      ],
      "text/plain": [
       "   alpha   R_squre  Adj_rsquare  MSE_train   MSE_test  intercept  cylinders  \\\n",
       "0    -10  0.046107     0.050652   6.541769  10.621208  -0.156509   6.389433   \n",
       "1     -4  0.761302     0.443506   0.180347   0.213954  -0.008445  -0.107634   \n",
       "2      2  0.774029     0.579118   0.175840   0.196221  -0.015158  -0.021755   \n",
       "3      8  0.769719     0.645740   0.178652   0.196884  -0.018004  -0.019210   \n",
       "\n",
       "   displacement    weight  acceleration  model year  horsepower    origin  \n",
       "0    -11.877472  3.201474     -0.712081    0.052499    0.686674 -0.731059  \n",
       "1      0.506868 -0.989653      0.117862    0.370660    0.034373  0.153515  \n",
       "2      0.168085 -0.703386      0.052589    0.341435   -0.054875  0.139854  \n",
       "3      0.059805 -0.576361      0.027485    0.325861   -0.096273  0.136765  "
      ]
     },
     "execution_count": 49,
     "metadata": {},
     "output_type": "execute_result"
    }
   ],
   "source": [
    "int=pd.DataFrame(intercept)\n",
    "int.columns = [\"intercept\"]\n",
    "coeffs = pd.DataFrame(np.matrix(np.array(coeff)),columns=dep.columns)\n",
    "rdg_ = pd.DataFrame({\n",
    "    \"alpha\" : alp,\n",
    "    \"R_squre\" : R_square,\n",
    "    \"Adj_rsquare\" :Adj_rsq,\n",
    "    \"MSE_train\" : MSE_train,\n",
    "    \"MSE_test\" : MSE_test\n",
    "    \n",
    "})\n",
    "rdg_data= pd.concat([rdg_,int,coeffs],axis=1)\n",
    "rdg_data"
   ]
  },
  {
   "cell_type": "code",
   "execution_count": 51,
   "metadata": {},
   "outputs": [
    {
     "data": {
      "text/plain": [
       "{'alpha': 2}"
      ]
     },
     "execution_count": 51,
     "metadata": {},
     "output_type": "execute_result"
    }
   ],
   "source": [
    "grd.best_params_"
   ]
  },
  {
   "cell_type": "code",
   "execution_count": 42,
   "metadata": {},
   "outputs": [
    {
     "data": {
      "text/plain": [
       "-0.29253777360145133"
      ]
     },
     "execution_count": 42,
     "metadata": {},
     "output_type": "execute_result"
    }
   ],
   "source": [
    "grd.best_score_"
   ]
  },
  {
   "cell_type": "code",
   "execution_count": 50,
   "metadata": {},
   "outputs": [
    {
     "data": {
      "text/plain": [
       "<matplotlib.legend.Legend at 0x1de40ed7790>"
      ]
     },
     "execution_count": 50,
     "metadata": {},
     "output_type": "execute_result"
    },
    {
     "data": {
      "image/png": "[encoded data removed]",
      "text/plain": [
       "<Figure size 432x288 with 1 Axes>"
      ]
     },
     "metadata": {
      "needs_background": "light"
     },
     "output_type": "display_data"
    }
   ],
   "source": [
    "ax= plt.gca()\n",
    "\n",
    "ax.plot(rdg_data[\"alpha\"],coeffs,label = X_test.columns)\n",
    "plt.legend()"
   ]
  },
  {
   "cell_type": "code",
   "execution_count": 52,
   "metadata": {},
   "outputs": [
    {
     "data": {
      "text/plain": [
       "Text(0.5, 1.0, 'Overfitting and Underfitting')"
      ]
     },
     "execution_count": 52,
     "metadata": {},
     "output_type": "execute_result"
    },
    {
     "data": {
      "image/png": "[encoded data removed]",
      "text/plain": [
       "<Figure size 432x288 with 1 Axes>"
      ]
     },
     "metadata": {
      "needs_background": "light"
     },
     "output_type": "display_data"
    }
   ],
   "source": [
    "# overfit _ underfit \n",
    "plt.plot(lambda_,rdg_data.MSE_train,label=\"Trainng_error\")\n",
    "plt.plot(lambda_,rdg_data.MSE_test,label=\"Testing_error\")\n",
    "plt.legend()\n",
    "plt.xlabel('Degree of polynomial')\n",
    "plt.ylabel('Mean Squared Error')\n",
    "plt.title('Overfitting and Underfitting')"
   ]
  },
  {
   "cell_type": "code",
   "execution_count": null,
   "metadata": {},
   "outputs": [],
   "source": []
  },
  {
   "cell_type": "code",
   "execution_count": null,
   "metadata": {},
   "outputs": [],
   "source": []
  },
  {
   "cell_type": "code",
   "execution_count": null,
   "metadata": {},
   "outputs": [],
   "source": []
  }
 ],
 "metadata": {
  "kernelspec": {
   "display_name": "base",
   "language": "python",
   "name": "python3"
  },
  "language_info": {
   "codemirror_mode": {
    "name": "ipython",
    "version": 3
   },
   "file_extension": ".py",
   "mimetype": "text/x-python",
   "name": "python",
   "nbconvert_exporter": "python",
   "pygments_lexer": "ipython3",
   "version": "3.9.12"
  },
  "orig_nbformat": 4
 },
 "nbformat": 4,
 "nbformat_minor": 2
}
