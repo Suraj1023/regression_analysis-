{
 "cells": [
  {
   "cell_type": "code",
   "execution_count": 1,
   "metadata": {},
   "outputs": [],
   "source": [
    "\n",
    "\n",
    "import pandas as pd\n",
    "import numpy as np \n",
    "import seaborn as sns\n",
    "import matplotlib.pyplot as plt\n",
    "from sklearn.linear_model import ElasticNet \n",
    "from sklearn.model_selection import train_test_split as tts,RepeatedKFold ,cross_val_score ,GridSearchCV\n",
    "from sklearn.metrics import r2_score, mean_squared_error\n",
    "import warnings\n",
    "warnings.filterwarnings(\"ignore\")\n",
    "\n"
   ]
  },
  {
   "cell_type": "code",
   "execution_count": 2,
   "metadata": {},
   "outputs": [
    {
     "data": {
      "text/html": [
       "<div>\n",
       "<style scoped>\n",
       "    .dataframe tbody tr th:only-of-type {\n",
       "        vertical-align: middle;\n",
       "    }\n",
       "\n",
       "    .dataframe tbody tr th {\n",
       "        vertical-align: top;\n",
       "    }\n",
       "\n",
       "    .dataframe thead th {\n",
       "        text-align: right;\n",
       "    }\n",
       "</style>\n",
       "<table border=\"1\" class=\"dataframe\">\n",
       "  <thead>\n",
       "    <tr style=\"text-align: right;\">\n",
       "      <th></th>\n",
       "      <th>mpg</th>\n",
       "      <th>cylinders</th>\n",
       "      <th>displacement</th>\n",
       "      <th>weight</th>\n",
       "      <th>acceleration</th>\n",
       "      <th>model year</th>\n",
       "      <th>horsepower</th>\n",
       "      <th>origin</th>\n",
       "    </tr>\n",
       "  </thead>\n",
       "  <tbody>\n",
       "    <tr>\n",
       "      <th>0</th>\n",
       "      <td>18.0</td>\n",
       "      <td>8</td>\n",
       "      <td>307.0</td>\n",
       "      <td>3504</td>\n",
       "      <td>12.0</td>\n",
       "      <td>70</td>\n",
       "      <td>130.0</td>\n",
       "      <td>1</td>\n",
       "    </tr>\n",
       "    <tr>\n",
       "      <th>1</th>\n",
       "      <td>15.0</td>\n",
       "      <td>8</td>\n",
       "      <td>350.0</td>\n",
       "      <td>3693</td>\n",
       "      <td>11.5</td>\n",
       "      <td>70</td>\n",
       "      <td>165.0</td>\n",
       "      <td>1</td>\n",
       "    </tr>\n",
       "    <tr>\n",
       "      <th>2</th>\n",
       "      <td>18.0</td>\n",
       "      <td>8</td>\n",
       "      <td>318.0</td>\n",
       "      <td>3436</td>\n",
       "      <td>11.0</td>\n",
       "      <td>70</td>\n",
       "      <td>150.0</td>\n",
       "      <td>1</td>\n",
       "    </tr>\n",
       "    <tr>\n",
       "      <th>3</th>\n",
       "      <td>16.0</td>\n",
       "      <td>8</td>\n",
       "      <td>304.0</td>\n",
       "      <td>3433</td>\n",
       "      <td>12.0</td>\n",
       "      <td>70</td>\n",
       "      <td>150.0</td>\n",
       "      <td>1</td>\n",
       "    </tr>\n",
       "    <tr>\n",
       "      <th>4</th>\n",
       "      <td>17.0</td>\n",
       "      <td>8</td>\n",
       "      <td>302.0</td>\n",
       "      <td>3449</td>\n",
       "      <td>10.5</td>\n",
       "      <td>70</td>\n",
       "      <td>140.0</td>\n",
       "      <td>1</td>\n",
       "    </tr>\n",
       "  </tbody>\n",
       "</table>\n",
       "</div>"
      ],
      "text/plain": [
       "    mpg  cylinders  displacement  weight  acceleration  model year  \\\n",
       "0  18.0          8         307.0    3504          12.0          70   \n",
       "1  15.0          8         350.0    3693          11.5          70   \n",
       "2  18.0          8         318.0    3436          11.0          70   \n",
       "3  16.0          8         304.0    3433          12.0          70   \n",
       "4  17.0          8         302.0    3449          10.5          70   \n",
       "\n",
       "   horsepower  origin  \n",
       "0       130.0       1  \n",
       "1       165.0       1  \n",
       "2       150.0       1  \n",
       "3       150.0       1  \n",
       "4       140.0       1  "
      ]
     },
     "execution_count": 2,
     "metadata": {},
     "output_type": "execute_result"
    }
   ],
   "source": [
    "df= pd.read_csv(r\"C:\\Users\\SURAJ\\Downloads\\Ridge_car_data.txt.csv\")\n",
    "df.dropna(inplace=True)\n",
    "df.drop(\"car name\",axis=1,inplace=True)\n",
    "df.head()"
   ]
  },
  {
   "cell_type": "code",
   "execution_count": 3,
   "metadata": {},
   "outputs": [
    {
     "name": "stdout",
     "output_type": "stream",
     "text": [
      "(157, 7)\n",
      "(235, 7)\n"
     ]
    }
   ],
   "source": [
    "ind = df[['mpg']]\n",
    "dep = df.drop(\"mpg\",axis=1)\n",
    "X_train,X_test,y_train,y_test = tts(dep,ind,train_size=0.6,random_state=1)\n",
    "print(X_test.shape)\n",
    "print(X_train.shape)"
   ]
  },
  {
   "cell_type": "code",
   "execution_count": 4,
   "metadata": {},
   "outputs": [],
   "source": [
    "Score = []\n",
    "coeff = []\n",
    "intercept = []\n",
    "R_square = []\n",
    "Adj_rsq =[]\n",
    "MSE_train = []\n",
    "MSE_test = []\n",
    "alp_l1 =np.arange(-1,5)\n",
    "\n",
    "for i in (alp_l1):\n",
    "    model = ElasticNet(i)\n",
    "    rd = model.fit(X_train,y_train)\n",
    "    coeff.append(rd.coef_)\n",
    "    intercept.append(rd.intercept_)\n",
    "    R_square.append(r2_score(rd.predict(X_test),y_test))\n",
    "    Adj_rsq.append(1 - (1 - np.mean(np.array(R_square)) * (len(X_test) - 1) / (len(X_test) - len(X_test.columns) - 1)))\n",
    "    MSE_train.append(mean_squared_error(rd.predict(X_train),y_train))\n",
    "    MSE_test.append(mean_squared_error(rd.predict(X_test),y_test))"
   ]
  },
  {
   "cell_type": "code",
   "execution_count": 5,
   "metadata": {},
   "outputs": [
    {
     "data": {
      "text/html": [
       "<div>\n",
       "<style scoped>\n",
       "    .dataframe tbody tr th:only-of-type {\n",
       "        vertical-align: middle;\n",
       "    }\n",
       "\n",
       "    .dataframe tbody tr th {\n",
       "        vertical-align: top;\n",
       "    }\n",
       "\n",
       "    .dataframe thead th {\n",
       "        text-align: right;\n",
       "    }\n",
       "</style>\n",
       "<table border=\"1\" class=\"dataframe\">\n",
       "  <thead>\n",
       "    <tr style=\"text-align: right;\">\n",
       "      <th></th>\n",
       "      <th>alpha</th>\n",
       "      <th>R_squre</th>\n",
       "      <th>Adj_rsquare</th>\n",
       "      <th>MSE_train</th>\n",
       "      <th>MSE_test</th>\n",
       "      <th>intercept</th>\n",
       "      <th>cylinders</th>\n",
       "      <th>displacement</th>\n",
       "      <th>weight</th>\n",
       "      <th>acceleration</th>\n",
       "      <th>model year</th>\n",
       "      <th>horsepower</th>\n",
       "      <th>origin</th>\n",
       "    </tr>\n",
       "  </thead>\n",
       "  <tbody>\n",
       "    <tr>\n",
       "      <th>0</th>\n",
       "      <td>-1</td>\n",
       "      <td>-0.004532</td>\n",
       "      <td>-0.004745</td>\n",
       "      <td>1.221129e+284</td>\n",
       "      <td>1.093918e+284</td>\n",
       "      <td>-5.253140e+142</td>\n",
       "      <td>5.026525e+141</td>\n",
       "      <td>-1.483418e+139</td>\n",
       "      <td>-4.585728e+137</td>\n",
       "      <td>6.820210e+140</td>\n",
       "      <td>-6.094868e+139</td>\n",
       "      <td>-1.325643e+139</td>\n",
       "      <td>1.584083e+142</td>\n",
       "    </tr>\n",
       "    <tr>\n",
       "      <th>1</th>\n",
       "      <td>0</td>\n",
       "      <td>0.762594</td>\n",
       "      <td>0.396838</td>\n",
       "      <td>1.051591e+01</td>\n",
       "      <td>1.196444e+01</td>\n",
       "      <td>-1.708097e+01</td>\n",
       "      <td>-8.463466e-02</td>\n",
       "      <td>1.225482e-02</td>\n",
       "      <td>-7.085130e-03</td>\n",
       "      <td>2.808207e-01</td>\n",
       "      <td>6.876652e-01</td>\n",
       "      <td>7.967903e-03</td>\n",
       "      <td>1.369471e+00</td>\n",
       "    </tr>\n",
       "    <tr>\n",
       "      <th>2</th>\n",
       "      <td>1</td>\n",
       "      <td>0.736367</td>\n",
       "      <td>0.521546</td>\n",
       "      <td>1.138373e+01</td>\n",
       "      <td>1.257338e+01</td>\n",
       "      <td>-4.404480e+00</td>\n",
       "      <td>0.000000e+00</td>\n",
       "      <td>-1.953816e-03</td>\n",
       "      <td>-6.428850e-03</td>\n",
       "      <td>3.697613e-02</td>\n",
       "      <td>6.135083e-01</td>\n",
       "      <td>-0.000000e+00</td>\n",
       "      <td>3.257848e-02</td>\n",
       "    </tr>\n",
       "    <tr>\n",
       "      <th>3</th>\n",
       "      <td>2</td>\n",
       "      <td>0.720467</td>\n",
       "      <td>0.579738</td>\n",
       "      <td>1.160871e+01</td>\n",
       "      <td>1.302165e+01</td>\n",
       "      <td>1.230177e+00</td>\n",
       "      <td>0.000000e+00</td>\n",
       "      <td>-4.037481e-03</td>\n",
       "      <td>-6.265026e-03</td>\n",
       "      <td>0.000000e+00</td>\n",
       "      <td>5.488663e-01</td>\n",
       "      <td>-1.822291e-03</td>\n",
       "      <td>0.000000e+00</td>\n",
       "    </tr>\n",
       "    <tr>\n",
       "      <th>4</th>\n",
       "      <td>3</td>\n",
       "      <td>0.704146</td>\n",
       "      <td>0.611236</td>\n",
       "      <td>1.182844e+01</td>\n",
       "      <td>1.349800e+01</td>\n",
       "      <td>5.752552e+00</td>\n",
       "      <td>0.000000e+00</td>\n",
       "      <td>-5.070542e-03</td>\n",
       "      <td>-6.195946e-03</td>\n",
       "      <td>0.000000e+00</td>\n",
       "      <td>4.898392e-01</td>\n",
       "      <td>-2.325141e-03</td>\n",
       "      <td>0.000000e+00</td>\n",
       "    </tr>\n",
       "    <tr>\n",
       "      <th>5</th>\n",
       "      <td>4</td>\n",
       "      <td>0.687262</td>\n",
       "      <td>0.629288</td>\n",
       "      <td>1.210265e+01</td>\n",
       "      <td>1.401094e+01</td>\n",
       "      <td>9.934670e+00</td>\n",
       "      <td>0.000000e+00</td>\n",
       "      <td>-6.017513e-03</td>\n",
       "      <td>-6.136909e-03</td>\n",
       "      <td>0.000000e+00</td>\n",
       "      <td>4.352821e-01</td>\n",
       "      <td>-2.687374e-03</td>\n",
       "      <td>0.000000e+00</td>\n",
       "    </tr>\n",
       "  </tbody>\n",
       "</table>\n",
       "</div>"
      ],
      "text/plain": [
       "   alpha   R_squre  Adj_rsquare      MSE_train       MSE_test      intercept  \\\n",
       "0     -1 -0.004532    -0.004745  1.221129e+284  1.093918e+284 -5.253140e+142   \n",
       "1      0  0.762594     0.396838   1.051591e+01   1.196444e+01  -1.708097e+01   \n",
       "2      1  0.736367     0.521546   1.138373e+01   1.257338e+01  -4.404480e+00   \n",
       "3      2  0.720467     0.579738   1.160871e+01   1.302165e+01   1.230177e+00   \n",
       "4      3  0.704146     0.611236   1.182844e+01   1.349800e+01   5.752552e+00   \n",
       "5      4  0.687262     0.629288   1.210265e+01   1.401094e+01   9.934670e+00   \n",
       "\n",
       "       cylinders   displacement         weight   acceleration     model year  \\\n",
       "0  5.026525e+141 -1.483418e+139 -4.585728e+137  6.820210e+140 -6.094868e+139   \n",
       "1  -8.463466e-02   1.225482e-02  -7.085130e-03   2.808207e-01   6.876652e-01   \n",
       "2   0.000000e+00  -1.953816e-03  -6.428850e-03   3.697613e-02   6.135083e-01   \n",
       "3   0.000000e+00  -4.037481e-03  -6.265026e-03   0.000000e+00   5.488663e-01   \n",
       "4   0.000000e+00  -5.070542e-03  -6.195946e-03   0.000000e+00   4.898392e-01   \n",
       "5   0.000000e+00  -6.017513e-03  -6.136909e-03   0.000000e+00   4.352821e-01   \n",
       "\n",
       "      horsepower         origin  \n",
       "0 -1.325643e+139  1.584083e+142  \n",
       "1   7.967903e-03   1.369471e+00  \n",
       "2  -0.000000e+00   3.257848e-02  \n",
       "3  -1.822291e-03   0.000000e+00  \n",
       "4  -2.325141e-03   0.000000e+00  \n",
       "5  -2.687374e-03   0.000000e+00  "
      ]
     },
     "execution_count": 5,
     "metadata": {},
     "output_type": "execute_result"
    }
   ],
   "source": [
    "int=pd.DataFrame(intercept)\n",
    "int.columns = [\"intercept\"]\n",
    "coeffs = pd.DataFrame(np.matrix(np.array(coeff)),columns=X_train.columns)\n",
    "elastic = pd.DataFrame({\n",
    "    \"alpha\" : alp_l1,\n",
    "    \"R_squre\" : R_square,\n",
    "    \"Adj_rsquare\" :Adj_rsq,\n",
    "    \"MSE_train\" : MSE_train,\n",
    "    \"MSE_test\" : MSE_test\n",
    "    \n",
    "})\n",
    "elastic_data=pd.concat([elastic,int,coeffs],axis=1)\n",
    "elastic_data"
   ]
  },
  {
   "cell_type": "code",
   "execution_count": 6,
   "metadata": {},
   "outputs": [
    {
     "data": {
      "text/plain": [
       "Text(0.5, 1.0, 'Lambda V/c coefficeints')"
      ]
     },
     "execution_count": 6,
     "metadata": {},
     "output_type": "execute_result"
    },
    {
     "data": {
      "image/png": "[encoded data removed]",
      "text/plain": [
       "<Figure size 432x288 with 1 Axes>"
      ]
     },
     "metadata": {
      "needs_background": "light"
     },
     "output_type": "display_data"
    }
   ],
   "source": [
    "ax= plt.gca()\n",
    "ax.plot(elastic_data[\"alpha\"],coeffs,label = X_test.columns)\n",
    "plt.legend()\n",
    "plt.xlabel('alpha')\n",
    "plt.ylabel('coefficients')\n",
    "plt.title('Lambda V/c coefficeints')\n",
    "\n"
   ]
  },
  {
   "cell_type": "code",
   "execution_count": 7,
   "metadata": {},
   "outputs": [
    {
     "data": {
      "text/plain": [
       "Text(0.5, 1.0, 'Overfitting and Underfitting')"
      ]
     },
     "execution_count": 7,
     "metadata": {},
     "output_type": "execute_result"
    },
    {
     "data": {
      "image/png": "[encoded data removed]",
      "text/plain": [
       "<Figure size 432x288 with 1 Axes>"
      ]
     },
     "metadata": {
      "needs_background": "light"
     },
     "output_type": "display_data"
    }
   ],
   "source": [
    "\n",
    "\n",
    "# overfit _ underfit \n",
    "plt.plot(elastic_data[\"alpha\"],elastic_data.MSE_train,label=\"Trainng_error\")\n",
    "plt.plot(elastic_data[\"alpha\"],elastic_data.MSE_test,label=\"Testing_error\")\n",
    "plt.legend()\n",
    "plt.xlabel('alpha')\n",
    "plt.ylabel('Mean Squared Error')\n",
    "plt.title('Overfitting and Underfitting')\n",
    "\n"
   ]
  },
  {
   "cell_type": "code",
   "execution_count": 8,
   "metadata": {},
   "outputs": [],
   "source": [
    "from sklearn.linear_model import ElasticNetCV"
   ]
  },
  {
   "cell_type": "code",
   "execution_count": 9,
   "metadata": {},
   "outputs": [
    {
     "data": {
      "text/plain": [
       "10.68616069171571"
      ]
     },
     "execution_count": 9,
     "metadata": {},
     "output_type": "execute_result"
    }
   ],
   "source": [
    "mod = ElasticNetCV(cv=10,random_state=1).fit(X_train,y_train)\n",
    "mod.alpha_"
   ]
  },
  {
   "cell_type": "code",
   "execution_count": 10,
   "metadata": {},
   "outputs": [],
   "source": [
    "mod_ =ElasticNet(0.5).fit(X_train,y_train)"
   ]
  },
  {
   "cell_type": "code",
   "execution_count": 11,
   "metadata": {},
   "outputs": [
    {
     "data": {
      "text/plain": [
       "array([ 0.        ,  0.00218652, -0.00667188,  0.1327269 ,  0.6490387 ,\n",
       "        0.0039964 ,  0.43658915])"
      ]
     },
     "execution_count": 11,
     "metadata": {},
     "output_type": "execute_result"
    }
   ],
   "source": [
    "mod_.coef_"
   ]
  },
  {
   "cell_type": "code",
   "execution_count": 12,
   "metadata": {},
   "outputs": [
    {
     "data": {
      "text/plain": [
       "array([-9.71714586])"
      ]
     },
     "execution_count": 12,
     "metadata": {},
     "output_type": "execute_result"
    }
   ],
   "source": [
    "mod_.intercept_"
   ]
  },
  {
   "cell_type": "code",
   "execution_count": null,
   "metadata": {},
   "outputs": [],
   "source": []
  }
 ],
 "metadata": {
  "kernelspec": {
   "display_name": "base",
   "language": "python",
   "name": "python3"
  },
  "language_info": {
   "codemirror_mode": {
    "name": "ipython",
    "version": 3
   },
   "file_extension": ".py",
   "mimetype": "text/x-python",
   "name": "python",
   "nbconvert_exporter": "python",
   "pygments_lexer": "ipython3",
   "version": "3.9.12"
  },
  "orig_nbformat": 4
 },
 "nbformat": 4,
 "nbformat_minor": 2
}
