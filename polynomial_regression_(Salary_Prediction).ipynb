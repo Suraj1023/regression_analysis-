{
 "cells": [
  {
   "attachments": {},
   "cell_type": "markdown",
   "metadata": {},
   "source": [
    "# Polynomial Regression"
   ]
  },
  {
   "cell_type": "code",
   "execution_count": 1,
   "metadata": {},
   "outputs": [],
   "source": [
    "import pandas as pd\n",
    "import numpy as np\n",
    "import seaborn as sns\n",
    "import matplotlib.pyplot as plt\n",
    "import warnings\n",
    "warnings.filterwarnings(\"ignore\")\n"
   ]
  },
  {
   "cell_type": "code",
   "execution_count": 2,
   "metadata": {},
   "outputs": [],
   "source": [
    "df = pd.read_csv(r\"C:\\Users\\SURAJ\\Downloads\\Salary Data.csv\")\n",
    "df[\"Years of Experience\"]=np.int64(df[\"Years of Experience\"])\n",
    "df = df.dropna()"
   ]
  },
  {
   "cell_type": "code",
   "execution_count": 3,
   "metadata": {},
   "outputs": [
    {
     "data": {
      "text/plain": [
       "(985, 6)"
      ]
     },
     "execution_count": 3,
     "metadata": {},
     "output_type": "execute_result"
    }
   ],
   "source": [
    "df[\"Salary\"] = np.int64(df.Salary)\n",
    "df.shape"
   ]
  },
  {
   "cell_type": "code",
   "execution_count": null,
   "metadata": {},
   "outputs": [],
   "source": []
  },
  {
   "cell_type": "code",
   "execution_count": 4,
   "metadata": {},
   "outputs": [
    {
     "data": {
      "text/plain": [
       "<AxesSubplot: xlabel='Years of Experience', ylabel='Salary'>"
      ]
     },
     "execution_count": 4,
     "metadata": {},
     "output_type": "execute_result"
    },
    {
     "data": {
      "image/png": "[encoded data removed]",
      "text/plain": [
       "<Figure size 432x288 with 1 Axes>"
      ]
     },
     "metadata": {
      "needs_background": "light"
     },
     "output_type": "display_data"
    }
   ],
   "source": [
    "sns.scatterplot(df[\"Years of Experience\"],df.Salary)"
   ]
  },
  {
   "cell_type": "code",
   "execution_count": 5,
   "metadata": {},
   "outputs": [
    {
     "data": {
      "text/plain": [
       "<AxesSubplot: >"
      ]
     },
     "execution_count": 5,
     "metadata": {},
     "output_type": "execute_result"
    },
    {
     "data": {
      "image/png": "[encoded data removed]",
      "text/plain": [
       "<Figure size 432x288 with 2 Axes>"
      ]
     },
     "metadata": {
      "needs_background": "light"
     },
     "output_type": "display_data"
    }
   ],
   "source": [
    "sns.heatmap(df.corr(),annot=True)"
   ]
  },
  {
   "cell_type": "code",
   "execution_count": 6,
   "metadata": {},
   "outputs": [
    {
     "data": {
      "text/plain": [
       "Bachelor's    582\n",
       "Master's      272\n",
       "PhD           131\n",
       "Name: Education Level, dtype: int64"
      ]
     },
     "execution_count": 6,
     "metadata": {},
     "output_type": "execute_result"
    }
   ],
   "source": [
    "df[\"Education Level\"].value_counts()"
   ]
  },
  {
   "cell_type": "code",
   "execution_count": 7,
   "metadata": {},
   "outputs": [
    {
     "data": {
      "text/html": [
       "<div>\n",
       "<style scoped>\n",
       "    .dataframe tbody tr th:only-of-type {\n",
       "        vertical-align: middle;\n",
       "    }\n",
       "\n",
       "    .dataframe tbody tr th {\n",
       "        vertical-align: top;\n",
       "    }\n",
       "\n",
       "    .dataframe thead th {\n",
       "        text-align: right;\n",
       "    }\n",
       "</style>\n",
       "<table border=\"1\" class=\"dataframe\">\n",
       "  <thead>\n",
       "    <tr style=\"text-align: right;\">\n",
       "      <th></th>\n",
       "      <th>Age</th>\n",
       "      <th>Gender</th>\n",
       "      <th>Education Level</th>\n",
       "      <th>Job Title</th>\n",
       "      <th>Years of Experience</th>\n",
       "      <th>Salary</th>\n",
       "    </tr>\n",
       "  </thead>\n",
       "  <tbody>\n",
       "    <tr>\n",
       "      <th>15</th>\n",
       "      <td>32.0</td>\n",
       "      <td>Male</td>\n",
       "      <td>0</td>\n",
       "      <td>Software Engineer</td>\n",
       "      <td>5</td>\n",
       "      <td>90000</td>\n",
       "    </tr>\n",
       "    <tr>\n",
       "      <th>16</th>\n",
       "      <td>28.0</td>\n",
       "      <td>Female</td>\n",
       "      <td>1</td>\n",
       "      <td>Data Analyst</td>\n",
       "      <td>3</td>\n",
       "      <td>65000</td>\n",
       "    </tr>\n",
       "    <tr>\n",
       "      <th>17</th>\n",
       "      <td>45.0</td>\n",
       "      <td>Male</td>\n",
       "      <td>2</td>\n",
       "      <td>Senior Manager</td>\n",
       "      <td>15</td>\n",
       "      <td>150000</td>\n",
       "    </tr>\n",
       "    <tr>\n",
       "      <th>18</th>\n",
       "      <td>36.0</td>\n",
       "      <td>Female</td>\n",
       "      <td>0</td>\n",
       "      <td>Sales Associate</td>\n",
       "      <td>7</td>\n",
       "      <td>60000</td>\n",
       "    </tr>\n",
       "    <tr>\n",
       "      <th>19</th>\n",
       "      <td>52.0</td>\n",
       "      <td>Male</td>\n",
       "      <td>1</td>\n",
       "      <td>Director</td>\n",
       "      <td>20</td>\n",
       "      <td>200000</td>\n",
       "    </tr>\n",
       "  </tbody>\n",
       "</table>\n",
       "</div>"
      ],
      "text/plain": [
       "     Age  Gender  Education Level          Job Title  Years of Experience  \\\n",
       "15  32.0    Male                0  Software Engineer                    5   \n",
       "16  28.0  Female                1       Data Analyst                    3   \n",
       "17  45.0    Male                2     Senior Manager                   15   \n",
       "18  36.0  Female                0    Sales Associate                    7   \n",
       "19  52.0    Male                1           Director                   20   \n",
       "\n",
       "    Salary  \n",
       "15   90000  \n",
       "16   65000  \n",
       "17  150000  \n",
       "18   60000  \n",
       "19  200000  "
      ]
     },
     "execution_count": 7,
     "metadata": {},
     "output_type": "execute_result"
    }
   ],
   "source": [
    "from sklearn.preprocessing import OrdinalEncoder\n",
    "enc = OrdinalEncoder()\n",
    "X = [[\"PhD\",2],[\"Master's\",1],[\"Bachelor's \",0]]\n",
    "enc.fit(X)\n",
    "df[\"Education Level\"]=np.int64(enc.fit_transform(df[[\"Education Level\"]]))\n",
    "df.head()\n"
   ]
  },
  {
   "cell_type": "code",
   "execution_count": 8,
   "metadata": {},
   "outputs": [],
   "source": [
    "X = df[\"Years of Experience\"]\n",
    "Y = df[\"Salary\"]"
   ]
  },
  {
   "cell_type": "code",
   "execution_count": 26,
   "metadata": {},
   "outputs": [],
   "source": [
    "from sklearn.model_selection import train_test_split as tts \n",
    "X_train,X_test,y_train,y_test = tts(X,Y,train_size=0.8,random_state=1)\n"
   ]
  },
  {
   "cell_type": "code",
   "execution_count": 27,
   "metadata": {},
   "outputs": [
    {
     "data": {
      "text/plain": [
       "329     6\n",
       "62     16\n",
       "954     9\n",
       "947     9\n",
       "34     22\n",
       "       ..\n",
       "782     9\n",
       "87     16\n",
       "923     9\n",
       "250     9\n",
       "52     14\n",
       "Name: Years of Experience, Length: 788, dtype: int64"
      ]
     },
     "execution_count": 27,
     "metadata": {},
     "output_type": "execute_result"
    }
   ],
   "source": []
  },
  {
   "cell_type": "code",
   "execution_count": 10,
   "metadata": {},
   "outputs": [
    {
     "data": {
      "text/plain": [
       "count    788.000000\n",
       "mean       9.348985\n",
       "std        4.128961\n",
       "min        0.000000\n",
       "25%        9.000000\n",
       "50%        9.000000\n",
       "75%        9.000000\n",
       "max       25.000000\n",
       "Name: Years of Experience, dtype: float64"
      ]
     },
     "execution_count": 10,
     "metadata": {},
     "output_type": "execute_result"
    }
   ],
   "source": [
    "X_train.describe()"
   ]
  },
  {
   "cell_type": "code",
   "execution_count": 11,
   "metadata": {},
   "outputs": [
    {
     "data": {
      "text/plain": [
       "count    985.000000\n",
       "mean       9.383756\n",
       "std        4.075873\n",
       "min        0.000000\n",
       "25%        9.000000\n",
       "50%        9.000000\n",
       "75%        9.000000\n",
       "max       25.000000\n",
       "Name: Years of Experience, dtype: float64"
      ]
     },
     "execution_count": 11,
     "metadata": {},
     "output_type": "execute_result"
    }
   ],
   "source": [
    "X.describe()"
   ]
  },
  {
   "cell_type": "code",
   "execution_count": 28,
   "metadata": {},
   "outputs": [
    {
     "ename": "ValueError",
     "evalue": "Expected 2D array, got 1D array instead:\narray=[ 6 16  9  9 22  9 20  9  9 12  9  9 19  3 10  9 23  9  9  9  9  9  9  9\n  9  9 20  9 20  9  9  9 15  6  9 10  9  9  9  9  9  9 10  9  9 12  9  4\n  9  9  9  9  7  1  0  9  9  9  9 25  9 22  7  9  9  9 16  9  3  9  9  9\n 18  9  9 21  9  9  9  9  9 14 12  9 15  9 15  9  9  9  6 13  9 16  9  9\n  3  9  9  9  9  9  9  9  9  9  1  9  9 14 17  9  9  9  9  7  5 21  9  9\n 11  9 19  5  9 19  9  9 12  9  9 12  9  9 21 22 21  9  9  9  9  9  9 11\n  9 18  3  9 18  0  9 22  9  9 12  9  9  4 21  3  2  9  5  6  7  9  8  9\n 16 14  9  9  3  9  9  9 10  9  9  9  9  9  2  9  0  9  9  9 21 18  9 16\n  9  5  9  9  7  2  9  9  9  9  9 18  6  8  9  9  4  3 15  9  9  9  9  9\n  9  1  9  9  5  3  4  9  9  9  8  9  9  9  9 15  9  9  9 12  9  9  9  9\n  9 19 12 17  9  9 14  9  9  3  9  9  9  9  9  9  1  9  9  6  3  9 21  7\n  9 16  7  9  9  9  9  9 12  9  7  9  9  9  9  1  4  8  9  9 12 15  9 10\n  9 10  9  9 25  9  2  1 10  2  5  4  9  9  2  5  9  9  9  9  9  9  3  9\n  5  9  9  1  9  9  3  5 16 20  9  9  9  9  9  9  9  9  9  3  9  9 18 19\n  2  9  9  9  8  3  9  9  9  9  9  9  9  9  9  9  9  9  2  9  9  9  9  9\n  9  1  4  9  9  7  4  9  9  9  9  9  5  9  9  9  8  9 10  9  9  9  9  1\n 15  9  9  9 18  0  4 14  9  9  9  3  9  9 25 14  5  9  9  6 23  9 22  7\n 16  8 14  9  9 21  9  2  9  9  9  9 13  9  9  9 24  9 16  6  9  9  9  9\n  9  9 18  9  3  9  9  9  1  9  9  2  9  9  9  9  9  9  9  9  8  9  9  9\n  9  9  3  9  9  9  9  9 20  9  9  9  9  2  9  3  9  7  9  8  9  9 11  7\n  7  9  5  9 16  9  2  9  9  9  1 15  9 10  9  9  9  9  9  7 18  8 10  9\n  1 15  9  9  9  9  9  3  9  9  9  9  3  9  5  2  9  9 19  9  9  9  9 15\n  9  9  9 20 13  6 13  2  9  9  9  9  9  9  3  9  2 19 16 13 15  4  9  9\n  9  9  9 11  9  9  9  9  9  9 21  9  9  9  2  9  9  3  9  9  9  9  9  8\n  9  9 19  9  2 19  9  9  3 21  9  4  9  9  9  9  9  8  9  9  9  9  9  1\n  9  9  9 10  8  9  9  9  9  9  9  3  9  5 20  9  9  9  4 21  9  9  9  9\n  9  4  9  9  9 21  8  9  9  9  9 13  2  9  9  9  9 18  9  3  4 22 15  9\n  9  9  9  9  9  9  9  9  8 10  9  6  1  9 19  9  9  9  9  9  9  9  8  9\n  9 19 20  9 11  9  5 19  9 16  6  9 15  9  9  9  9  9 10  9 14  9  9 14\n  8  9 11  9  9  9  2  9  9  9  9  9  4  3 17  1 16  9  9  9  9 15  9 11\n  9  8  9  9  9  9  9  9  9  9 11  9  9  9  9  9  9  9  8  9  2  9  9 13\n  9  9  4  4  9 13  2  9  9  9  9  9  9  9  9  9  9  9  2  9  9  9 19 14\n  8 20  1  9  9  9  9  9  8  1  9  9  9  9  9  9 16  9  9 14].\nReshape your data either using array.reshape(-1, 1) if your data has a single feature or array.reshape(1, -1) if it contains a single sample.",
     "output_type": "error",
     "traceback": [
      "\u001b[1;31m---------------------------------------------------------------------------\u001b[0m",
      "\u001b[1;31mValueError\u001b[0m                                Traceback (most recent call last)",
      "\u001b[1;32mUntitled-1.ipynb Cell 15\u001b[0m in \u001b[0;36m<cell line: 3>\u001b[1;34m()\u001b[0m\n\u001b[0;32m      <a href='vscode-notebook-cell:Untitled-1.ipynb?jupyter-notebook#X22sdW50aXRsZWQ%3D?line=0'>1</a>\u001b[0m \u001b[39mfrom\u001b[39;00m \u001b[39msklearn\u001b[39;00m\u001b[39m.\u001b[39;00m\u001b[39mpreprocessing\u001b[39;00m \u001b[39mimport\u001b[39;00m PolynomialFeatures\n\u001b[0;32m      <a href='vscode-notebook-cell:Untitled-1.ipynb?jupyter-notebook#X22sdW50aXRsZWQ%3D?line=1'>2</a>\u001b[0m ploy \u001b[39m=\u001b[39m PolynomialFeatures(degree\u001b[39m=\u001b[39m\u001b[39m2\u001b[39m)\n\u001b[1;32m----> <a href='vscode-notebook-cell:Untitled-1.ipynb?jupyter-notebook#X22sdW50aXRsZWQ%3D?line=2'>3</a>\u001b[0m X_train_2\u001b[39m=\u001b[39mploy\u001b[39m.\u001b[39;49mfit_transform(X_train)\n\u001b[0;32m      <a href='vscode-notebook-cell:Untitled-1.ipynb?jupyter-notebook#X22sdW50aXRsZWQ%3D?line=3'>4</a>\u001b[0m X_test_2\u001b[39m=\u001b[39mploy\u001b[39m.\u001b[39mfit_transform(X_test)\n",
      "File \u001b[1;32mc:\\Users\\SURAJ\\Anaconda3\\lib\\site-packages\\sklearn\\base.py:852\u001b[0m, in \u001b[0;36mTransformerMixin.fit_transform\u001b[1;34m(self, X, y, **fit_params)\u001b[0m\n\u001b[0;32m    848\u001b[0m \u001b[39m# non-optimized default implementation; override when a better\u001b[39;00m\n\u001b[0;32m    849\u001b[0m \u001b[39m# method is possible for a given clustering algorithm\u001b[39;00m\n\u001b[0;32m    850\u001b[0m \u001b[39mif\u001b[39;00m y \u001b[39mis\u001b[39;00m \u001b[39mNone\u001b[39;00m:\n\u001b[0;32m    851\u001b[0m     \u001b[39m# fit method of arity 1 (unsupervised transformation)\u001b[39;00m\n\u001b[1;32m--> 852\u001b[0m     \u001b[39mreturn\u001b[39;00m \u001b[39mself\u001b[39m\u001b[39m.\u001b[39mfit(X, \u001b[39m*\u001b[39m\u001b[39m*\u001b[39mfit_params)\u001b[39m.\u001b[39mtransform(X)\n\u001b[0;32m    853\u001b[0m \u001b[39melse\u001b[39;00m:\n\u001b[0;32m    854\u001b[0m     \u001b[39m# fit method of arity 2 (supervised transformation)\u001b[39;00m\n\u001b[0;32m    855\u001b[0m     \u001b[39mreturn\u001b[39;00m \u001b[39mself\u001b[39m\u001b[39m.\u001b[39mfit(X, y, \u001b[39m*\u001b[39m\u001b[39m*\u001b[39mfit_params)\u001b[39m.\u001b[39mtransform(X)\n",
      "File \u001b[1;32mc:\\Users\\SURAJ\\Anaconda3\\lib\\site-packages\\sklearn\\preprocessing\\_polynomial.py:287\u001b[0m, in \u001b[0;36mPolynomialFeatures.fit\u001b[1;34m(self, X, y)\u001b[0m\n\u001b[0;32m    270\u001b[0m \u001b[39mdef\u001b[39;00m \u001b[39mfit\u001b[39m(\u001b[39mself\u001b[39m, X, y\u001b[39m=\u001b[39m\u001b[39mNone\u001b[39;00m):\n\u001b[0;32m    271\u001b[0m     \u001b[39m\"\"\"\u001b[39;00m\n\u001b[0;32m    272\u001b[0m \u001b[39m    Compute number of output features.\u001b[39;00m\n\u001b[0;32m    273\u001b[0m \n\u001b[1;32m   (...)\u001b[0m\n\u001b[0;32m    285\u001b[0m \u001b[39m        Fitted transformer.\u001b[39;00m\n\u001b[0;32m    286\u001b[0m \u001b[39m    \"\"\"\u001b[39;00m\n\u001b[1;32m--> 287\u001b[0m     _, n_features \u001b[39m=\u001b[39m \u001b[39mself\u001b[39;49m\u001b[39m.\u001b[39;49m_validate_data(X, accept_sparse\u001b[39m=\u001b[39;49m\u001b[39mTrue\u001b[39;49;00m)\u001b[39m.\u001b[39mshape\n\u001b[0;32m    289\u001b[0m     \u001b[39mif\u001b[39;00m \u001b[39misinstance\u001b[39m(\u001b[39mself\u001b[39m\u001b[39m.\u001b[39mdegree, numbers\u001b[39m.\u001b[39mIntegral):\n\u001b[0;32m    290\u001b[0m         \u001b[39mif\u001b[39;00m \u001b[39mself\u001b[39m\u001b[39m.\u001b[39mdegree \u001b[39m<\u001b[39m \u001b[39m0\u001b[39m:\n",
      "File \u001b[1;32mc:\\Users\\SURAJ\\Anaconda3\\lib\\site-packages\\sklearn\\base.py:566\u001b[0m, in \u001b[0;36mBaseEstimator._validate_data\u001b[1;34m(self, X, y, reset, validate_separately, **check_params)\u001b[0m\n\u001b[0;32m    564\u001b[0m     \u001b[39mraise\u001b[39;00m \u001b[39mValueError\u001b[39;00m(\u001b[39m\"\u001b[39m\u001b[39mValidation should be done on X, y or both.\u001b[39m\u001b[39m\"\u001b[39m)\n\u001b[0;32m    565\u001b[0m \u001b[39melif\u001b[39;00m \u001b[39mnot\u001b[39;00m no_val_X \u001b[39mand\u001b[39;00m no_val_y:\n\u001b[1;32m--> 566\u001b[0m     X \u001b[39m=\u001b[39m check_array(X, \u001b[39m*\u001b[39m\u001b[39m*\u001b[39mcheck_params)\n\u001b[0;32m    567\u001b[0m     out \u001b[39m=\u001b[39m X\n\u001b[0;32m    568\u001b[0m \u001b[39melif\u001b[39;00m no_val_X \u001b[39mand\u001b[39;00m \u001b[39mnot\u001b[39;00m no_val_y:\n",
      "File \u001b[1;32mc:\\Users\\SURAJ\\Anaconda3\\lib\\site-packages\\sklearn\\utils\\validation.py:769\u001b[0m, in \u001b[0;36mcheck_array\u001b[1;34m(array, accept_sparse, accept_large_sparse, dtype, order, copy, force_all_finite, ensure_2d, allow_nd, ensure_min_samples, ensure_min_features, estimator)\u001b[0m\n\u001b[0;32m    767\u001b[0m     \u001b[39m# If input is 1D raise error\u001b[39;00m\n\u001b[0;32m    768\u001b[0m     \u001b[39mif\u001b[39;00m array\u001b[39m.\u001b[39mndim \u001b[39m==\u001b[39m \u001b[39m1\u001b[39m:\n\u001b[1;32m--> 769\u001b[0m         \u001b[39mraise\u001b[39;00m \u001b[39mValueError\u001b[39;00m(\n\u001b[0;32m    770\u001b[0m             \u001b[39m\"\u001b[39m\u001b[39mExpected 2D array, got 1D array instead:\u001b[39m\u001b[39m\\n\u001b[39;00m\u001b[39marray=\u001b[39m\u001b[39m{}\u001b[39;00m\u001b[39m.\u001b[39m\u001b[39m\\n\u001b[39;00m\u001b[39m\"\u001b[39m\n\u001b[0;32m    771\u001b[0m             \u001b[39m\"\u001b[39m\u001b[39mReshape your data either using array.reshape(-1, 1) if \u001b[39m\u001b[39m\"\u001b[39m\n\u001b[0;32m    772\u001b[0m             \u001b[39m\"\u001b[39m\u001b[39myour data has a single feature or array.reshape(1, -1) \u001b[39m\u001b[39m\"\u001b[39m\n\u001b[0;32m    773\u001b[0m             \u001b[39m\"\u001b[39m\u001b[39mif it contains a single sample.\u001b[39m\u001b[39m\"\u001b[39m\u001b[39m.\u001b[39mformat(array)\n\u001b[0;32m    774\u001b[0m         )\n\u001b[0;32m    776\u001b[0m \u001b[39m# make sure we actually converted to numeric:\u001b[39;00m\n\u001b[0;32m    777\u001b[0m \u001b[39mif\u001b[39;00m dtype_numeric \u001b[39mand\u001b[39;00m array\u001b[39m.\u001b[39mdtype\u001b[39m.\u001b[39mkind \u001b[39min\u001b[39;00m \u001b[39m\"\u001b[39m\u001b[39mOUSV\u001b[39m\u001b[39m\"\u001b[39m:\n",
      "\u001b[1;31mValueError\u001b[0m: Expected 2D array, got 1D array instead:\narray=[ 6 16  9  9 22  9 20  9  9 12  9  9 19  3 10  9 23  9  9  9  9  9  9  9\n  9  9 20  9 20  9  9  9 15  6  9 10  9  9  9  9  9  9 10  9  9 12  9  4\n  9  9  9  9  7  1  0  9  9  9  9 25  9 22  7  9  9  9 16  9  3  9  9  9\n 18  9  9 21  9  9  9  9  9 14 12  9 15  9 15  9  9  9  6 13  9 16  9  9\n  3  9  9  9  9  9  9  9  9  9  1  9  9 14 17  9  9  9  9  7  5 21  9  9\n 11  9 19  5  9 19  9  9 12  9  9 12  9  9 21 22 21  9  9  9  9  9  9 11\n  9 18  3  9 18  0  9 22  9  9 12  9  9  4 21  3  2  9  5  6  7  9  8  9\n 16 14  9  9  3  9  9  9 10  9  9  9  9  9  2  9  0  9  9  9 21 18  9 16\n  9  5  9  9  7  2  9  9  9  9  9 18  6  8  9  9  4  3 15  9  9  9  9  9\n  9  1  9  9  5  3  4  9  9  9  8  9  9  9  9 15  9  9  9 12  9  9  9  9\n  9 19 12 17  9  9 14  9  9  3  9  9  9  9  9  9  1  9  9  6  3  9 21  7\n  9 16  7  9  9  9  9  9 12  9  7  9  9  9  9  1  4  8  9  9 12 15  9 10\n  9 10  9  9 25  9  2  1 10  2  5  4  9  9  2  5  9  9  9  9  9  9  3  9\n  5  9  9  1  9  9  3  5 16 20  9  9  9  9  9  9  9  9  9  3  9  9 18 19\n  2  9  9  9  8  3  9  9  9  9  9  9  9  9  9  9  9  9  2  9  9  9  9  9\n  9  1  4  9  9  7  4  9  9  9  9  9  5  9  9  9  8  9 10  9  9  9  9  1\n 15  9  9  9 18  0  4 14  9  9  9  3  9  9 25 14  5  9  9  6 23  9 22  7\n 16  8 14  9  9 21  9  2  9  9  9  9 13  9  9  9 24  9 16  6  9  9  9  9\n  9  9 18  9  3  9  9  9  1  9  9  2  9  9  9  9  9  9  9  9  8  9  9  9\n  9  9  3  9  9  9  9  9 20  9  9  9  9  2  9  3  9  7  9  8  9  9 11  7\n  7  9  5  9 16  9  2  9  9  9  1 15  9 10  9  9  9  9  9  7 18  8 10  9\n  1 15  9  9  9  9  9  3  9  9  9  9  3  9  5  2  9  9 19  9  9  9  9 15\n  9  9  9 20 13  6 13  2  9  9  9  9  9  9  3  9  2 19 16 13 15  4  9  9\n  9  9  9 11  9  9  9  9  9  9 21  9  9  9  2  9  9  3  9  9  9  9  9  8\n  9  9 19  9  2 19  9  9  3 21  9  4  9  9  9  9  9  8  9  9  9  9  9  1\n  9  9  9 10  8  9  9  9  9  9  9  3  9  5 20  9  9  9  4 21  9  9  9  9\n  9  4  9  9  9 21  8  9  9  9  9 13  2  9  9  9  9 18  9  3  4 22 15  9\n  9  9  9  9  9  9  9  9  8 10  9  6  1  9 19  9  9  9  9  9  9  9  8  9\n  9 19 20  9 11  9  5 19  9 16  6  9 15  9  9  9  9  9 10  9 14  9  9 14\n  8  9 11  9  9  9  2  9  9  9  9  9  4  3 17  1 16  9  9  9  9 15  9 11\n  9  8  9  9  9  9  9  9  9  9 11  9  9  9  9  9  9  9  8  9  2  9  9 13\n  9  9  4  4  9 13  2  9  9  9  9  9  9  9  9  9  9  9  2  9  9  9 19 14\n  8 20  1  9  9  9  9  9  8  1  9  9  9  9  9  9 16  9  9 14].\nReshape your data either using array.reshape(-1, 1) if your data has a single feature or array.reshape(1, -1) if it contains a single sample."
     ]
    }
   ],
   "source": [
    "from sklearn.preprocessing import PolynomialFeatures\n",
    "ploy = PolynomialFeatures(degree=2)\n",
    "X_train_2=ploy.fit_transform(X_train)\n",
    "X_test_2=ploy.fit_transform(X_test)"
   ]
  },
  {
   "cell_type": "code",
   "execution_count": 23,
   "metadata": {},
   "outputs": [],
   "source": [
    "from sklearn.linear_model import LinearRegression\n",
    "lm = LinearRegression()\n",
    "model_2 = lm.fit([y_train],X_train_2)"
   ]
  },
  {
   "cell_type": "code",
   "execution_count": 24,
   "metadata": {},
   "outputs": [
    {
     "data": {
      "text/plain": [
       "array([[0., 0., 0., ..., 0., 0., 0.],\n",
       "       [0., 0., 0., ..., 0., 0., 0.],\n",
       "       [0., 0., 0., ..., 0., 0., 0.],\n",
       "       ...,\n",
       "       [0., 0., 0., ..., 0., 0., 0.],\n",
       "       [0., 0., 0., ..., 0., 0., 0.],\n",
       "       [0., 0., 0., ..., 0., 0., 0.]])"
      ]
     },
     "execution_count": 24,
     "metadata": {},
     "output_type": "execute_result"
    }
   ],
   "source": [
    "model_2.coef_"
   ]
  },
  {
   "cell_type": "code",
   "execution_count": 25,
   "metadata": {},
   "outputs": [
    {
     "data": {
      "text/plain": [
       "array([  1.,   6.,  16., ...,  81., 126., 196.])"
      ]
     },
     "execution_count": 25,
     "metadata": {},
     "output_type": "execute_result"
    }
   ],
   "source": [
    "model_2.intercept_"
   ]
  },
  {
   "cell_type": "code",
   "execution_count": null,
   "metadata": {},
   "outputs": [],
   "source": []
  }
 ],
 "metadata": {
  "kernelspec": {
   "display_name": "base",
   "language": "python",
   "name": "python3"
  },
  "language_info": {
   "codemirror_mode": {
    "name": "ipython",
    "version": 3
   },
   "file_extension": ".py",
   "mimetype": "text/x-python",
   "name": "python",
   "nbconvert_exporter": "python",
   "pygments_lexer": "ipython3",
   "version": "3.9.12"
  },
  "orig_nbformat": 4
 },
 "nbformat": 4,
 "nbformat_minor": 2
}
